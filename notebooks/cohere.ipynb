{
 "cells": [
  {
   "cell_type": "code",
   "execution_count": 2,
   "metadata": {},
   "outputs": [
    {
     "data": {
      "text/plain": [
       "True"
      ]
     },
     "execution_count": 2,
     "metadata": {},
     "output_type": "execute_result"
    }
   ],
   "source": [
    "from dotenv import load_dotenv\n",
    "import os\n",
    "\n",
    "load_dotenv('../.env')"
   ]
  },
  {
   "cell_type": "markdown",
   "metadata": {},
   "source": [
    "# Cohere model streaming example"
   ]
  },
  {
   "cell_type": "markdown",
   "metadata": {},
   "source": [
    "[Cohere](https://cohere.com/) offers a powerful suite of cutting-edge models for RAG-based application. It has state-of-the-art multilingual models for chat completion and embedding generation. Additionally, models are able to be customized with tool calling, structured outputs, streaming endpoints and document citations. Cohere models can be used from their own api service or they can be deployed on any major cloud service (AWS, Azure, etc...)."
   ]
  },
  {
   "cell_type": "code",
   "execution_count": 6,
   "metadata": {},
   "outputs": [
    {
     "name": "stdout",
     "output_type": "stream",
     "text": [
      "LLM stands for Large Language Model. It is a type of artificial intelligence model that is trained to understand and generate human-like language. These models are designed to process and analyze vast amounts of text data, enabling them to perform various natural language processing tasks.\n",
      "\n",
      "Large Language Models are typically based on deep learning architectures, particularly transformer-based models like GPT (Generative Pre-trained Transformer) or BERT (Bidirectional Encoder Representations from Transformers). These models are trained on enormous corpora of text, often consisting of billions of words, allowing them to learn patterns, grammar, and context from the data.\n",
      "\n",
      "The key characteristic of LLMs is their ability to generate coherent and contextually relevant text. They can complete sentences, answer questions, summarize information, translate languages, and even engage in creative writing tasks. LLMs achieve this by predicting the next most probable word or token based on the input they receive and their training data.\n",
      "\n",
      "These models have revolutionized natural language processing and have found applications in a wide range of fields, including virtual assistants, chatbots, content generation, language translation, sentiment analysis, and more. Their ability to understand and generate human-like language has opened up new possibilities for human-computer interaction and automated language-based tasks."
     ]
    }
   ],
   "source": [
    "# This is an example api streaming call\n",
    "# You will need to have setup the proper api environemnt variables\n",
    "\n",
    "import cohere\n",
    "\n",
    "co = cohere.AsyncClientV2(api_key=os.getenv('COMMAND_R_API_KEY'), base_url=os.getenv('COMMAND_R_URL'))\n",
    "\n",
    "async def stream():\n",
    "    res = co.chat_stream(\n",
    "        model=\"command-r-08-2024\",\n",
    "        messages=[{\"role\": \"user\", \"content\": \"What is an LLM?\"}],\n",
    "    )\n",
    "\n",
    "    try:\n",
    "        async for event in res:\n",
    "            if event:\n",
    "                if event.type == \"content-delta\":\n",
    "                    print(event.delta.message.content.text, end=\"\")\n",
    "    except httpx.ReadError:\n",
    "        pass\n",
    "\n",
    "await stream()"
   ]
  }
 ],
 "metadata": {
  "kernelspec": {
   "display_name": "FullStack-RAG-Env",
   "language": "python",
   "name": "python3"
  },
  "language_info": {
   "codemirror_mode": {
    "name": "ipython",
    "version": 3
   },
   "file_extension": ".py",
   "mimetype": "text/x-python",
   "name": "python",
   "nbconvert_exporter": "python",
   "pygments_lexer": "ipython3",
   "version": "3.12.8"
  }
 },
 "nbformat": 4,
 "nbformat_minor": 2
}
