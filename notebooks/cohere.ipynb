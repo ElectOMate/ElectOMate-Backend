{
 "cells": [
  {
   "cell_type": "code",
   "execution_count": 1,
   "metadata": {},
   "outputs": [
    {
     "data": {
      "text/plain": [
       "True"
      ]
     },
     "execution_count": 1,
     "metadata": {},
     "output_type": "execute_result"
    }
   ],
   "source": [
    "from dotenv import load_dotenv\n",
    "import os\n",
    "import httpx \n",
    "\n",
    "load_dotenv('../.env')"
   ]
  },
  {
   "cell_type": "markdown",
   "metadata": {},
   "source": [
    "# Cohere model streaming example"
   ]
  },
  {
   "cell_type": "markdown",
   "metadata": {},
   "source": [
    "[Cohere](https://cohere.com/) offers a powerful suite of cutting-edge models for RAG-based application. It has state-of-the-art multilingual models for chat completion and embedding generation. Additionally, models are able to be customized with tool calling, structured outputs, streaming endpoints and document citations. Cohere models can be used from their own api service or they can be deployed on any major cloud service (AWS, Azure, etc...)."
   ]
  },
  {
   "cell_type": "code",
   "execution_count": 2,
   "metadata": {},
   "outputs": [
    {
     "name": "stdout",
     "output_type": "stream",
     "text": [
      "LLM stands for Large Language Model. It is a type of artificial intelligence model that is trained on vast amounts of text data to understand and generate human-like language. These models are designed to process and analyze large volumes of natural language, enabling them to perform various language-related tasks.\n",
      "\n",
      "LLMs are based on deep learning techniques, particularly transformer architectures, which allow them to capture complex patterns and relationships within the text. They use attention mechanisms to weigh the importance of different words or phrases, enabling them to generate coherent and contextually relevant responses.\n",
      "\n",
      "Some well-known examples of LLMs include GPT-3 (Generative Pre-trained Transformer 3) developed by OpenAI, BERT (Bidirectional Encoder Representations from Transformers) from Google, and T5 (Text-to-Text Transfer Transformer) from Google AI. These models have been trained on massive datasets, such as Common Crawl and Wikipedia, to acquire a broad understanding of language.\n",
      "\n",
      "LLMs have a wide range of applications, including natural language processing, text generation, language translation, question-answering systems, sentiment analysis, and more. They have revolutionized the field of natural language understanding and have the potential to assist in various industries, such as customer service, content creation, virtual assistants, and language-based data analysis."
     ]
    }
   ],
   "source": [
    "# This is an example api streaming call\n",
    "# You will need to have setup the proper api environemnt variables\n",
    "\n",
    "import cohere\n",
    "\n",
    "co = cohere.AsyncClientV2(api_key=os.getenv('COMMAND_R_API_KEY'), base_url=os.getenv('COMMAND_R_URL'))\n",
    "\n",
    "async def stream():\n",
    "    res = co.chat_stream(\n",
    "        model=\"command-r-08-2024\",\n",
    "        messages=[{\"role\": \"user\", \"content\": \"What is an LLM?\"}],\n",
    "    )\n",
    "\n",
    "    try:\n",
    "        async for event in res:\n",
    "            if event:\n",
    "                if event.type == \"content-delta\":\n",
    "                    print(event.delta.message.content.text, end=\"\")\n",
    "    except httpx.ReadError:\n",
    "        pass\n",
    "\n",
    "await stream()"
   ]
  }
 ],
 "metadata": {
  "kernelspec": {
   "display_name": "FullStack-RAG-Env",
   "language": "python",
   "name": "python3"
  },
  "language_info": {
   "codemirror_mode": {
    "name": "ipython",
    "version": 3
   },
   "file_extension": ".py",
   "mimetype": "text/x-python",
   "name": "python",
   "nbconvert_exporter": "python",
   "pygments_lexer": "ipython3",
   "version": "3.12.8"
  }
 },
 "nbformat": 4,
 "nbformat_minor": 2
}
