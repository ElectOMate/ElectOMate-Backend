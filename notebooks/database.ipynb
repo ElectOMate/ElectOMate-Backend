{
 "cells": [
  {
   "cell_type": "code",
   "execution_count": 4,
   "metadata": {},
   "outputs": [
    {
     "data": {
      "text/plain": [
       "True"
      ]
     },
     "execution_count": 4,
     "metadata": {},
     "output_type": "execute_result"
    }
   ],
   "source": [
    "import os\n",
    "from dotenv import load_dotenv\n",
    "\n",
    "load_dotenv('../.env')"
   ]
  },
  {
   "cell_type": "markdown",
   "metadata": {},
   "source": [
    "# Weaviate collection definition"
   ]
  },
  {
   "cell_type": "markdown",
   "metadata": {},
   "source": [
    "[Weaviate](https://weaviate.io) is a powerful vector database. It can be deployed in numerous ways, through a docker image or a kubernetes images. They also offer a fully managed database service. In particular, weaviate allows for storing objects with custom embeddings and performing hybrid searches. \n",
    "\n",
    "Custom embeddings allows us to use powerful Cohere embeddings with the database. Hybrid search performs a fusion of a keyword (BM25F) search and a vector search, allowing high accuracy in search results. A lot of settings are configurable to choose between performance and accuracy, we go with the default settings."
   ]
  },
  {
   "cell_type": "code",
   "execution_count": 5,
   "metadata": {},
   "outputs": [],
   "source": [
    "import weaviate\n",
    "import weaviate.classes as wvc"
   ]
  },
  {
   "cell_type": "code",
   "execution_count": 7,
   "metadata": {},
   "outputs": [
    {
     "name": "stdout",
     "output_type": "stream",
     "text": [
      "True\n"
     ]
    }
   ],
   "source": [
    "# Connect to the remote database\n",
    "\n",
    "client = weaviate.connect_to_custom(\n",
    "    http_host=os.getenv('WEAVIATE_HOST'),\n",
    "    http_port=os.getenv('WEAVIATE_PORT'),\n",
    "    http_secure=False,\n",
    "    grpc_host=os.getenv('WEAVIATE_GRPC_HOST'),\n",
    "    grpc_port=os.getenv('WEAVIATE_GRPC_PORT'),\n",
    "    grpc_secure=False,\n",
    "    auth_credentials=wvc.init.Auth.api_key(os.getenv('WEAVIATE_API_KEY')),\n",
    "    additional_config=wvc.init.AdditionalConfig(timeout=wvc.init.Timeout(init=30, query=60, insert=120)),\n",
    ")\n",
    "\n",
    "print(client.is_ready())\n",
    "\n",
    "assert client.is_ready()"
   ]
  },
  {
   "cell_type": "code",
   "execution_count": 8,
   "metadata": {},
   "outputs": [
    {
     "data": {
      "text/plain": [
       "{}"
      ]
     },
     "execution_count": 8,
     "metadata": {},
     "output_type": "execute_result"
    }
   ],
   "source": [
    "client.collections.list_all()"
   ]
  },
  {
   "cell_type": "code",
   "execution_count": 9,
   "metadata": {},
   "outputs": [
    {
     "data": {
      "text/plain": [
       "True"
      ]
     },
     "execution_count": 9,
     "metadata": {},
     "output_type": "execute_result"
    }
   ],
   "source": [
    "# Create the collection. we define a filename, title and text fields for our pdf chunks. Additionally, we store the embedding of the text chunk.\n",
    "\n",
    "questions = client.collections.create(\n",
    "    \"Documents\",\n",
    "    vectorizer_config=[wvc.config.Configure.NamedVectors.none(name=\"chunk_vector\", vector_index_config=wvc.config.Configure.VectorIndex.hnsw())],\n",
    "    properties=[\n",
    "        wvc.config.Property(name=\"title\", data_type=wvc.config.DataType.TEXT),\n",
    "        wvc.config.Property(name=\"filename\", data_type=wvc.config.DataType.TEXT),\n",
    "        wvc.config.Property(name=\"chunk_content\", data_type=wvc.config.DataType.TEXT),\n",
    "    ]\n",
    ")\n",
    "questions.exists()"
   ]
  },
  {
   "cell_type": "code",
   "execution_count": 10,
   "metadata": {},
   "outputs": [],
   "source": [
    "# This allows you to list all the chunk in the database\n",
    "\n",
    "questions = client.collections.get(\"Documents\")\n",
    "\n",
    "for item in questions.iterator(include_vector=True):\n",
    "    print(item.properties)\n",
    "    print(item.vector)"
   ]
  },
  {
   "cell_type": "code",
   "execution_count": 15,
   "metadata": {},
   "outputs": [],
   "source": [
    "# Run this cell if you want to delete the collection\n",
    "\n",
    "client.collections.delete(\"Documents\")"
   ]
  }
 ],
 "metadata": {
  "kernelspec": {
   "display_name": "EM-Backend-Env",
   "language": "python",
   "name": "python3"
  },
  "language_info": {
   "codemirror_mode": {
    "name": "ipython",
    "version": 3
   },
   "file_extension": ".py",
   "mimetype": "text/x-python",
   "name": "python",
   "nbconvert_exporter": "python",
   "pygments_lexer": "ipython3",
   "version": "3.12.6"
  }
 },
 "nbformat": 4,
 "nbformat_minor": 2
}
